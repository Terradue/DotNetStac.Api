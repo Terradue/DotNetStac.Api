{
 "cells": [
  {
   "attachments": {},
   "cell_type": "markdown",
   "metadata": {
    "dotnet_interactive": {
     "language": "csharp"
    },
    "polyglot_notebook": {
     "kernelName": "csharp"
    }
   },
   "source": [
    "<h1 align=\"center\">DotNetStac.Api</h1>\n",
    "<h2 align=\"center\">\n",
    ".Net SDK for working with Spatio Temporal Asset Catalogs API (<a href=\"https://github.com/radiantearth/stac-api-spec\">STAC API</a>)\n",
    "</h2>\n",
    "\n",
    "### DotNetStac.Api is a Software Development Kit (SDK) for .NET and ASP.NET Core to build and query STAC API compliant services. It is based on the [STAC API specification](https://github.com/radiantearth/stac-api-spec) and uses the [DotNetStac library](https://github.com/Terradue/DotNetStac) for the [STAC data model](https://github.com/radiantearth/stac-spec)."
   ]
  },
  {
   "attachments": {},
   "cell_type": "markdown",
   "metadata": {
    "dotnet_interactive": {
     "language": "csharp"
    },
    "polyglot_notebook": {
     "kernelName": "csharp"
    }
   },
   "source": [
    "## Tutorial 1 - Query STAC API compliant service with the client\n",
    "\n",
    "In this notebook, we are going to use the DotNetStac.Api client to query a STAC API compliant service.\n",
    "\n",
    "#### Important Note about .Net programming and C# language usage in this library\n",
    "\n",
    "We chose to design and implement the objects of this library as plain as possible (e.g. POCO) in order to keep the structured and typed nature of the C# language. So, we will deal with normal classes, without more attributes describing infrastructure concerns or other responsibilities that your domain objects shouldn't have."
   ]
  },
  {
   "attachments": {},
   "cell_type": "markdown",
   "metadata": {
    "dotnet_interactive": {
     "language": "csharp"
    },
    "polyglot_notebook": {
     "kernelName": "csharp"
    }
   },
   "source": [
    "### 1 Install DotNetStac.Api.Clients\n",
    "First, we either install lastest version of DotNetStac.Api.Clients in the notebook or  we use the locally built binaries"
   ]
  },
  {
   "cell_type": "code",
   "execution_count": 1,
   "metadata": {
    "dotnet_interactive": {
     "language": "csharp"
    }
   },
   "outputs": [
    {
     "data": {
      "text/html": [
       "<div><div><strong>Restore sources</strong><ul><li><span>/tmp/stacapi-build</span></li></ul></div><div></div><div></div></div>"
      ]
     },
     "metadata": {},
     "output_type": "display_data"
    }
   ],
   "source": [
    "// Use built lib\n",
    "#i \"/tmp/stacapi-build\"\n",
    "#r \"/tmp/stacapi-build/Stac.Api.Clients.dll\""
   ]
  },
  {
   "attachments": {},
   "cell_type": "markdown",
   "metadata": {
    "dotnet_interactive": {
     "language": "csharp"
    },
    "polyglot_notebook": {
     "kernelName": "csharp"
    }
   },
   "source": [
    "### 2 Query the STAC API compliant service with the clients\n",
    "\n",
    "The DotNetStac.Api.Clients library provides a STAC API client that can be used to query a STAC API compliant service. Each API has it's own client class that inherits from the `StacApiClient` class but the recommended entry point is the `ApiClient` class that provides an multi-purpose client for any STAC API compliant service.\n",
    "\n",
    "The multi-purpose client is organised as follow:\n",
    "- `Core` client for the [Core API](https://github.com/radiantearth/stac-api-spec/tree/main/core)\n",
    "- `Collections` client for the [Collections API](https://github.com/radiantearth/stac-api-spec/tree/main/ogcapi-features)\n",
    "- `Features` client for the [Features API](https://github.com/radiantearth/stac-api-spec/tree/main/ogcapi-features)\n",
    "- `ItemSearch` client for the [Item Search API](https://github.com/radiantearth/stac-api-spec/tree/main/item-search)\n",
    "- `Extensions` helper class to access all the registered [extensions of the STAC API](https://stac-api-extensions.github.io/)\n",
    "  \n",
    "In the above first example, we query the landing page of the STAC API compliant service running locally via the Core API client part."
   ]
  },
  {
   "cell_type": "code",
   "execution_count": 5,
   "metadata": {
    "dotnet_interactive": {
     "language": "csharp"
    }
   },
   "outputs": [
    {
     "name": "stdout",
     "output_type": "stream",
     "text": [
      "{\n",
      "  \"id\": \"root\",\n",
      "  \"stac_version\": \"1.0.0\",\n",
      "  \"links\": [\n",
      "    {\n",
      "      \"type\": \"application/json\",\n",
      "      \"rel\": \"self\",\n",
      "      \"href\": \"http://localhost:5000/\"\n",
      "    },\n",
      "    {\n",
      "      \"type\": \"application/json\",\n",
      "      \"rel\": \"root\",\n",
      "      \"href\": \"http://localhost:5000/\"\n",
      "    },\n",
      "    {\n",
      "      \"type\": \"application/geo+json\",\n",
      "      \"rel\": \"search\",\n",
      "      \"href\": \"http://localhost:5000/search\",\n",
      "      \"method\": \"GET\"\n",
      "    },\n",
      "    {\n",
      "      \"type\": \"application/geo+json\",\n",
      "      \"rel\": \"search\",\n",
      "      \"href\": \"http://localhost:5000/search\",\n",
      "      \"method\": \"POST\"\n",
      "    },\n",
      "    {\n",
      "      \"type\": \"application/json\",\n",
      "      \"rel\": \"conformance\",\n",
      "      \"href\": \"http://localhost:5000/conformance\"\n",
      "    },\n",
      "    {\n",
      "      \"type\": \"application/json\",\n",
      "      \"rel\": \"data\",\n",
      "      \"href\": \"http://localhost:5000/collections\"\n",
      "    }\n",
      "  ],\n",
      "  \"type\": \"Catalog\",\n",
      "  \"description\": \"Root catalog\",\n",
      "  \"conformsTo\": [\n",
      "    \"https://api.stacspec.org/v1.0.0-rc.2/item-search\",\n",
      "    \"https://api.stacspec.org/v1.0.0-rc.2/ogcapi-features\",\n",
      "    \"http://www.opengis.net/spec/ogcapi-features-4/1.0/conf/simpletx\",\n",
      "    \"https://api.stacspec.org/v1.0.0-rc.2/core\",\n",
      "    \"https://api.stacspec.org/v1.0.0-rc.2/browseable\",\n",
      "    \"https://api.stacspec.org/v1.0.0-rc.2/collections\"\n",
      "  ]\n",
      "}"
     ]
    }
   ],
   "source": [
    "using Stac;\n",
    "using Stac.Api.Clients;\n",
    "using Stac.Api.Models;\n",
    "using Newtonsoft.Json;\n",
    "\n",
    "// Create a client to query the local running instance of the API\n",
    "private static ApiClient client = new ApiClient(\"http://localhost:5000\");\n",
    "\n",
    "// Get the landing page via the Core client and print it to the console\n",
    "LandingPage landingPage = await client.Core.GetLandingPageAsync();\n",
    "var landingPageJson = StacConvert.Serialize(landingPage, new JsonSerializerSettings(){Formatting = Formatting.Indented});\n",
    "\n",
    "Console.Out.Write(landingPageJson);"
   ]
  },
  {
   "attachments": {},
   "cell_type": "markdown",
   "metadata": {
    "dotnet_interactive": {
     "language": "csharp"
    },
    "polyglot_notebook": {
     "kernelName": "csharp"
    }
   },
   "source": [
    "We can also query the collections of the service via the Collections API client part and Output a list of the collections."
   ]
  },
  {
   "cell_type": "code",
   "execution_count": 6,
   "metadata": {
    "dotnet_interactive": {
     "language": "csharp"
    },
    "polyglot_notebook": {
     "kernelName": "csharp"
    }
   },
   "outputs": [
    {
     "name": "stdout",
     "output_type": "stream",
     "text": [
      "sentinel-2-l2a\n"
     ]
    }
   ],
   "source": [
    "using Stac.Api.Clients.Collections;\n",
    "\n",
    "StacCollections collections = await client.Collections.GetCollectionsAsync();\n",
    "foreach (var collection in collections.Collections)\n",
    "{\n",
    "    Console.Out.WriteLine(collection.Id);\n",
    "}"
   ]
  },
  {
   "attachments": {},
   "cell_type": "markdown",
   "metadata": {
    "dotnet_interactive": {
     "language": "csharp"
    },
    "polyglot_notebook": {
     "kernelName": "csharp"
    }
   },
   "source": [
    "Now we can query the items of the service via the Features API client part in the collection `sentinel-2-l2a` and output a list of the items."
   ]
  },
  {
   "cell_type": "code",
   "execution_count": 9,
   "metadata": {
    "dotnet_interactive": {
     "language": "csharp"
    },
    "polyglot_notebook": {
     "kernelName": "csharp"
    }
   },
   "outputs": [
    {
     "name": "stdout",
     "output_type": "stream",
     "text": [
      "S2B_MSIL2A_20230118T020439_R017_T52NBH_20230118T081155\n",
      "S2B_MSIL2A_20230118T020439_R017_T50JNM_20230118T083949\n",
      "S2A_MSIL2A_20230118T011721_R088_T53KLT_20230118T091300\n",
      "S2B_MSIL2A_20230118T002419_R016_T56PNQ_20230118T075218\n",
      "S2B_MSIL2A_20230118T002709_R016_T54JXN_20230118T072804\n",
      "S2A_MSIL2A_20230118T024031_R089_T50QPK_20230118T193315\n",
      "S2A_MSIL2A_20230118T024031_R089_T50QLE_20230118T172544\n",
      "S2B_MSIL2A_20230118T033059_R018_T50UMB_20230118T084441\n",
      "S2B_MSIL2A_20230118T020439_R017_T50KQA_20230118T092139\n",
      "S2B_MSIL2A_20230118T020439_R017_T51NZG_20230118T084418\n"
     ]
    }
   ],
   "source": [
    "StacFeatureCollection features = await client.Features.GetFeaturesAsync(\"sentinel-2-l2a\", 10, null, null);\n",
    "foreach (var feature in features.Features)\n",
    "{\n",
    "    Console.Out.WriteLine(feature.Id);\n",
    "}"
   ]
  },
  {
   "attachments": {},
   "cell_type": "markdown",
   "metadata": {
    "dotnet_interactive": {
     "language": "csharp"
    },
    "polyglot_notebook": {
     "kernelName": "csharp"
    }
   },
   "source": [
    "Let's visualize them on a map."
   ]
  },
  {
   "cell_type": "markdown",
   "metadata": {
    "dotnet_interactive": {
     "language": "csharp"
    },
    "polyglot_notebook": {
     "kernelName": "csharp"
    }
   },
   "source": [
    "<h1 align=\"center\">Thank you!</h1>\n",
    "<img src=\"https://www.terradue.com/wp-content/uploads/2017/02/logo-03-01-1.svg\" width=\"600\" />\n",
    "\n",
    "www.terradue.com<br/>\n",
    "Emmanuel Mathot<br/>\n",
    "emmanuel.mathot@terradue.com<br/>"
   ]
  },
  {
   "cell_type": "code",
   "execution_count": 11,
   "metadata": {
    "dotnet_interactive": {
     "language": "csharp"
    }
   },
   "outputs": [],
   "source": []
  }
 ],
 "metadata": {
  "kernelspec": {
   "display_name": ".NET (C#)",
   "language": "C#",
   "name": ".net-csharp"
  },
  "language_info": {
   "name": "polyglot-notebook"
  },
  "polyglot_notebook": {
   "kernelInfo": {
    "defaultKernelName": "csharp",
    "items": [
     {
      "aliases": [],
      "name": "csharp"
     }
    ]
   }
  }
 },
 "nbformat": 4,
 "nbformat_minor": 2
}
