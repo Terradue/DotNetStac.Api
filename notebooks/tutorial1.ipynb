{
 "cells": [
  {
   "attachments": {},
   "cell_type": "markdown",
   "metadata": {
    "dotnet_interactive": {
     "language": "csharp"
    },
    "polyglot_notebook": {
     "kernelName": "csharp"
    }
   },
   "source": [
    "<h1 align=\"center\">DotNetStac.Api</h1>\n",
    "<h2 align=\"center\">\n",
    ".Net SDK for working with Spatio Temporal Asset Catalogs API (<a href=\"https://github.com/radiantearth/stac-api-spec\">STAC API</a>)\n",
    "</h2>\n",
    "\n",
    "### DotNetStac.Api is a Software Development Kit (SDK) for .NET and ASP.NET Core to build and query STAC API compliant services. It is based on the [STAC API specification](https://github.com/radiantearth/stac-api-spec) and uses the [DotNetStac library](https://github.com/Terradue/DotNetStac) for the [STAC data model](https://github.com/radiantearth/stac-spec)."
   ]
  },
  {
   "attachments": {},
   "cell_type": "markdown",
   "metadata": {
    "dotnet_interactive": {
     "language": "csharp"
    },
    "polyglot_notebook": {
     "kernelName": "csharp"
    }
   },
   "source": [
    "## Tutorial 1 - Query STAC API compliant service with the client\n",
    "\n",
    "In this notebook, we are going to use the DotNetStac.Api client to query a STAC API compliant service.\n",
    "\n",
    "#### Important Note about .Net programming and C# language usage in this library\n",
    "\n",
    "We chose to design and implement the objects of this library as plain as possible (e.g. POCO) in order to keep the structured and typed nature of the C# language. So, we will deal with normal classes, without more attributes describing infrastructure concerns or other responsibilities that your domain objects shouldn't have."
   ]
  },
  {
   "attachments": {},
   "cell_type": "markdown",
   "metadata": {
    "dotnet_interactive": {
     "language": "csharp"
    },
    "polyglot_notebook": {
     "kernelName": "csharp"
    }
   },
   "source": [
    "### 1 Install DotNetStac.Api.Clients\n",
    "First, we either install lastest version of DotNetStac.Api.Clients in the notebook or  we use the locally built binaries"
   ]
  },
  {
   "cell_type": "code",
   "execution_count": 1,
   "metadata": {
    "dotnet_interactive": {
     "language": "csharp"
    }
   },
   "outputs": [
    {
     "data": {
      "text/html": [
       "<div><div><strong>Restore sources</strong><ul><li><span>/tmp/build</span></li></ul></div><div></div><div></div></div>"
      ]
     },
     "metadata": {},
     "output_type": "display_data"
    }
   ],
   "source": [
    "// Use built lib\n",
    "#i \"/tmp/stacapi-build\"\n",
    "#r \"/tmp/stacapi-build/Stac.Api.Clients.dll\""
   ]
  },
  {
   "attachments": {},
   "cell_type": "markdown",
   "metadata": {
    "dotnet_interactive": {
     "language": "csharp"
    },
    "polyglot_notebook": {
     "kernelName": "csharp"
    }
   },
   "source": [
    "### 2 Create a STAC API client\n",
    "\n",
    "The (de)serialiation methods are wrapped in methods in [class `StacConvert`](https://terradue.github.io/DotNetStac/api/Stac.StacConvert.html) that is the main entry point from/to JSON/.Net.\n",
    "\n",
    "Let's start reading a STAC catalog online. Please note that DotNetStac does not provide with data access middleware. You can integrate own data access or you can test the [`Stars` SDK](https://github.com/Terradue/Stars) that provides with integrated functions to manipulate STAC objects and their storage.\n",
    "\n",
    "The following code is a very simple function loading a catalog and printing it's `id`, `description` and `stac_version`."
   ]
  },
  {
   "cell_type": "code",
   "execution_count": 4,
   "metadata": {
    "dotnet_interactive": {
     "language": "csharp"
    }
   },
   "outputs": [
    {
     "name": "stdout",
     "output_type": "stream",
     "text": [
      "{\n",
      "  \"id\": \"root\",\n",
      "  \"stac_version\": \"1.0.0\",\n",
      "  \"links\": [\n",
      "    {\n",
      "      \"type\": \"application/json\",\n",
      "      \"rel\": \"self\",\n",
      "      \"href\": \"http://127.0.0.1:5000/\"\n",
      "    },\n",
      "    {\n",
      "      \"type\": \"application/json\",\n",
      "      \"rel\": \"root\",\n",
      "      \"href\": \"http://127.0.0.1:5000/\"\n",
      "    },\n",
      "    {\n",
      "      \"type\": \"application/geo+json\",\n",
      "      \"rel\": \"search\",\n",
      "      \"href\": \"http://127.0.0.1:5000/search\",\n",
      "      \"method\": \"GET\"\n",
      "    },\n",
      "    {\n",
      "      \"type\": \"application/geo+json\",\n",
      "      \"rel\": \"search\",\n",
      "      \"href\": \"http://127.0.0.1:5000/search\",\n",
      "      \"method\": \"POST\"\n",
      "    },\n",
      "    {\n",
      "      \"type\": \"application/json\",\n",
      "      \"rel\": \"conformance\",\n",
      "      \"href\": \"http://127.0.0.1:5000/conformance\"\n",
      "    },\n",
      "    {\n",
      "      \"type\": \"application/json\",\n",
      "      \"rel\": \"data\",\n",
      "      \"href\": \"http://127.0.0.1:5000/collections\"\n",
      "    }\n",
      "  ],\n",
      "  \"type\": \"Catalog\",\n",
      "  \"description\": \"Root catalog\",\n",
      "  \"conformsTo\": [\n",
      "    \"https://api.stacspec.org/v1.0.0-rc.2/item-search\",\n",
      "    \"https://api.stacspec.org/v1.0.0-rc.2/ogcapi-features\",\n",
      "    \"http://www.opengis.net/spec/ogcapi-features-4/1.0/conf/simpletx\",\n",
      "    \"https://api.stacspec.org/v1.0.0-rc.2/core\",\n",
      "    \"https://api.stacspec.org/v1.0.0-rc.2/browseable\",\n",
      "    \"https://api.stacspec.org/v1.0.0-rc.2/collections\"\n",
      "  ]\n",
      "}"
     ]
    }
   ],
   "source": [
    "using Stac;\n",
    "using Stac.Api.Clients.Core;\n",
    "using System.Net.Http;\n",
    "using Newtonsoft.Json;\n",
    "\n",
    "private static HttpClient sharedClient = new()\n",
    "{\n",
    "    BaseAddress = new Uri(\"http://127.0.0.1:5000\"),\n",
    "};\n",
    "\n",
    "CoreClient coreClient = new CoreClient(sharedClient);\n",
    "var landingPage = await coreClient.GetLandingPageAsync();\n",
    "var landingPageJson = StacConvert.Serialize(landingPage, new JsonSerializerSettings(){Formatting = Formatting.Indented});\n",
    "\n",
    "Console.Out.Write(landingPageJson);"
   ]
  },
  {
   "cell_type": "markdown",
   "metadata": {
    "dotnet_interactive": {
     "language": "csharp"
    },
    "polyglot_notebook": {
     "kernelName": "csharp"
    }
   },
   "source": [
    "<h1 align=\"center\">Thank you!</h1>\n",
    "<img src=\"https://www.terradue.com/wp-content/uploads/2017/02/logo-03-01-1.svg\" width=\"600\" />\n",
    "\n",
    "www.terradue.com<br/>\n",
    "Emmanuel Mathot<br/>\n",
    "emmanuel.mathot@terradue.com<br/>"
   ]
  },
  {
   "cell_type": "code",
   "execution_count": null,
   "metadata": {
    "dotnet_interactive": {
     "language": "csharp"
    }
   },
   "outputs": [],
   "source": []
  }
 ],
 "metadata": {
  "kernelspec": {
   "display_name": ".NET (C#)",
   "language": "C#",
   "name": ".net-csharp"
  },
  "language_info": {
   "name": "polyglot-notebook"
  },
  "polyglot_notebook": {
   "kernelInfo": {
    "defaultKernelName": "csharp",
    "items": [
     {
      "aliases": [],
      "name": "csharp"
     }
    ]
   }
  }
 },
 "nbformat": 4,
 "nbformat_minor": 2
}
